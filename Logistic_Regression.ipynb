{
 "cells": [
  {
   "cell_type": "code",
   "execution_count": 1,
   "id": "f3a61a9c",
   "metadata": {},
   "outputs": [],
   "source": [
    "import numpy as np\n",
    "import random\n",
    "import math\n",
    "from sklearn.model_selection import train_test_split"
   ]
  },
  {
   "cell_type": "code",
   "execution_count": 2,
   "id": "39882476",
   "metadata": {},
   "outputs": [],
   "source": [
    "table = np.genfromtxt(\"spambase.data\", delimiter=\",\")\n",
    "\n",
    "np.random.seed(0)\n",
    "np.random.shuffle(table)"
   ]
  },
  {
   "cell_type": "code",
   "execution_count": 3,
   "id": "f4f5ccd1",
   "metadata": {},
   "outputs": [],
   "source": [
    "X = table[:, :-1]\n",
    "Y = table[:, -1]\n",
    "\n",
    "trainX, testX, trainY, testY = train_test_split(X, Y, test_size=0.333, shuffle=False)"
   ]
  },
  {
   "cell_type": "code",
   "execution_count": 4,
   "id": "afa059df",
   "metadata": {},
   "outputs": [],
   "source": [
    "mean = np.mean(trainX, axis=0)\n",
    "std = np.std(trainX, axis=0, ddof=1)\n",
    "\n",
    "sTrainX = (trainX-mean)/std\n",
    "sTestX = (testX-mean)/std\n",
    "\n",
    "trainBias = np.ones((sTrainX.shape[0], 1))\n",
    "sTrainX = np.append(sTrainX, trainBias, axis=1)\n",
    "\n",
    "testBias = np.ones((sTestX.shape[0], 1))\n",
    "sTestX = np.append(sTestX, testBias, axis=1)"
   ]
  },
  {
   "cell_type": "code",
   "execution_count": 5,
   "id": "ddd8ff9d",
   "metadata": {},
   "outputs": [],
   "source": [
    "def getSigmoid(sTrainX, theta):\n",
    "    return 1 / (1 + np.exp(-sTrainX @ theta))"
   ]
  },
  {
   "cell_type": "code",
   "execution_count": 6,
   "id": "b75095d5",
   "metadata": {},
   "outputs": [],
   "source": [
    "theta = np.array([random.uniform(-1,1) for i in range(len(sTrainX[0]))])\n",
    "\n",
    "prevCost = 0\n",
    "n = 0.01\n",
    "k = 0\n",
    "\n",
    "while k < 10000:\n",
    "    theta += (n/sTrainX.shape[0]) * sTrainX.T @ (trainY - getSigmoid(sTrainX, theta))\n",
    "    currCost = trainY @ np.log(getSigmoid(sTrainX, theta) + np.finfo(float).eps) + (1-trainY) @ np.log(1 - getSigmoid(sTrainX, theta) + np.finfo(float).eps)  \n",
    "    \n",
    "    if np.abs(currCost - prevCost) < math.pow(2, -23):\n",
    "        break\n",
    "    \n",
    "    prevCost = currCost\n",
    "    k += 1"
   ]
  },
  {
   "cell_type": "code",
   "execution_count": 7,
   "id": "5fd9f0ba",
   "metadata": {},
   "outputs": [
    {
     "name": "stdout",
     "output_type": "stream",
     "text": [
      "Precision: 0.9066901408450704\n",
      "Recall: 0.8940972222222222\n",
      "F_measure: 0.9003496503496503\n",
      "Accuracy: 0.9256360078277887\n"
     ]
    }
   ],
   "source": [
    "pred = getSigmoid(sTestX, theta)\n",
    "\n",
    "truePos, trueNeg = 0, 0\n",
    "falsePos, falseNeg = 0, 0\n",
    "\n",
    "for i in range(len(sTestX)):\n",
    "    if pred[i] > 0.5:\n",
    "        if testY[i] == 1:\n",
    "            truePos += 1\n",
    "        else:\n",
    "            falsePos += 1\n",
    "    else:\n",
    "        if testY[i] == 0:\n",
    "            trueNeg += 1\n",
    "        else: \n",
    "            falseNeg += 1\n",
    "            \n",
    "precision = truePos/(truePos + falsePos)\n",
    "recall = truePos/(truePos + falseNeg)\n",
    "f_measure = 2 * precision * recall/(precision + recall)\n",
    "accuracy = (truePos + trueNeg)/testY.shape[0]\n",
    "\n",
    "\n",
    "print(\"Precision:\", precision)\n",
    "print(\"Recall:\", recall)\n",
    "print(\"F_measure:\", f_measure)\n",
    "print(\"Accuracy:\", accuracy)\n"
   ]
  }
 ],
 "metadata": {
  "kernelspec": {
   "display_name": "Python 3 (ipykernel)",
   "language": "python",
   "name": "python3"
  },
  "language_info": {
   "codemirror_mode": {
    "name": "ipython",
    "version": 3
   },
   "file_extension": ".py",
   "mimetype": "text/x-python",
   "name": "python",
   "nbconvert_exporter": "python",
   "pygments_lexer": "ipython3",
   "version": "3.9.13"
  }
 },
 "nbformat": 4,
 "nbformat_minor": 5
}
