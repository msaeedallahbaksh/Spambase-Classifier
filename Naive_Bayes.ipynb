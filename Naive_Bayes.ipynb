{
 "cells": [
  {
   "cell_type": "code",
   "execution_count": 1,
   "id": "d0597b0f",
   "metadata": {},
   "outputs": [],
   "source": [
    "import numpy as np\n",
    "from sklearn.model_selection import train_test_split\n",
    "import random\n",
    "import matplotlib.pyplot as plt"
   ]
  },
  {
   "cell_type": "code",
   "execution_count": 2,
   "id": "6913b3f0",
   "metadata": {},
   "outputs": [],
   "source": [
    "table = np.genfromtxt(\"spambase.data\", delimiter=\",\")\n",
    "\n",
    "np.random.seed(0)\n",
    "np.random.shuffle(table)"
   ]
  },
  {
   "cell_type": "code",
   "execution_count": 3,
   "id": "fa08dac5",
   "metadata": {},
   "outputs": [],
   "source": [
    "X = table[:, :-1]\n",
    "Y = table[:, -1]\n",
    "\n",
    "trainX, testX, trainY, testY = train_test_split(X, Y, test_size=0.333, shuffle=False)"
   ]
  },
  {
   "cell_type": "code",
   "execution_count": 4,
   "id": "acca0632",
   "metadata": {},
   "outputs": [],
   "source": [
    "mean = np.mean(trainX, axis=0)\n",
    "std = np.std(trainX, axis=0, ddof=1)\n",
    "\n",
    "sTrainX = (trainX-mean)/std\n",
    "sTestX = (testX-mean)/std"
   ]
  },
  {
   "cell_type": "code",
   "execution_count": 5,
   "id": "f599966d",
   "metadata": {},
   "outputs": [],
   "source": [
    "sTrainXSpam = sTrainX[trainY == 1]\n",
    "sTrainXNonSpam = sTrainX[trainY == 0]\n",
    "\n",
    "priorSpam = sTrainXSpam.shape[0]/sTrainX.shape[0]\n",
    "spamMean = np.mean(sTrainXSpam, axis=0)\n",
    "spamStd = np.std(sTrainXSpam, axis=0, ddof=1) + np.finfo(float).eps\n",
    "\n",
    "priorNonSpam = sTrainXNonSpam.shape[0]/sTrainX.shape[0]\n",
    "nonSpamMean = np.mean(sTrainXNonSpam, axis=0)\n",
    "nonSpamStd = np.std(sTrainXNonSpam, axis=0, ddof=1) + np.finfo(float).eps"
   ]
  },
  {
   "cell_type": "code",
   "execution_count": 6,
   "id": "1d34246e",
   "metadata": {},
   "outputs": [],
   "source": [
    "truePos, trueNeg = 0, 0\n",
    "falsePos, falseNeg = 0, 0\n",
    "\n",
    "for i in range(sTestX.shape[0]):\n",
    "    s = sTestX[i]\n",
    "    spamPred = priorSpam\n",
    "    nonSpamPred = priorNonSpam\n",
    "    for j in range(len(s)):\n",
    "        spamPred *= 1/(spamStd[j] * np.sqrt(2 * np.pi)) * np.exp(-((s[j]-spamMean[j])**2)/(2*spamStd[j]**2))\n",
    "        nonSpamPred *= 1/(nonSpamStd[j] * np.sqrt(2 * np.pi)) * np.exp(-((s[j]-nonSpamMean[j])**2)/(2*nonSpamStd[j]**2))\n",
    "    if nonSpamPred > spamPred:\n",
    "        if testY[i] == 0:\n",
    "            trueNeg += 1\n",
    "        else: \n",
    "            falseNeg += 1\n",
    "    else:\n",
    "        if testY[i] == 1:\n",
    "            truePos += 1\n",
    "        else:\n",
    "            falsePos += 1"
   ]
  },
  {
   "cell_type": "code",
   "execution_count": 7,
   "id": "9394799e",
   "metadata": {},
   "outputs": [
    {
     "name": "stdout",
     "output_type": "stream",
     "text": [
      "Precision:  0.6232044198895028\n",
      "Recall:  0.9791666666666666\n",
      "F_measure:  0.7616475354490209\n",
      "Accuracy:  0.7697325505544683\n"
     ]
    }
   ],
   "source": [
    "precision = truePos/(truePos + falsePos)\n",
    "recall = truePos/(truePos + falseNeg)\n",
    "f_measure = 2 * precision * recall/(precision + recall)\n",
    "accuracy = (truePos + trueNeg)/testY.shape[0]\n",
    "\n",
    "\n",
    "print(\"Precision: \", precision)\n",
    "print(\"Recall: \", recall)\n",
    "print(\"F_measure: \", f_measure)\n",
    "print(\"Accuracy: \", accuracy)"
   ]
  }
 ],
 "metadata": {
  "kernelspec": {
   "display_name": "Python 3 (ipykernel)",
   "language": "python",
   "name": "python3"
  },
  "language_info": {
   "codemirror_mode": {
    "name": "ipython",
    "version": 3
   },
   "file_extension": ".py",
   "mimetype": "text/x-python",
   "name": "python",
   "nbconvert_exporter": "python",
   "pygments_lexer": "ipython3",
   "version": "3.9.13"
  }
 },
 "nbformat": 4,
 "nbformat_minor": 5
}
